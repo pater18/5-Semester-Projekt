{
 "cells": [
  {
   "cell_type": "code",
   "execution_count": 726,
   "metadata": {},
   "outputs": [],
   "source": [
    "import csv\n",
    "import matplotlib.pyplot as plt"
   ]
  },
  {
   "cell_type": "markdown",
   "metadata": {},
   "source": [
    "# Choose number of episodes and split values  "
   ]
  },
  {
   "cell_type": "code",
   "execution_count": 727,
   "metadata": {},
   "outputs": [],
   "source": [
    "numberOfEpisodes = 30000\n",
    "splitThousandEpisodes = 15000\n",
    "splitReturn = 1000\n",
    "splitRates = 100"
   ]
  },
  {
   "cell_type": "markdown",
   "metadata": {},
   "source": [
    "# Load in data from file"
   ]
  },
  {
   "cell_type": "code",
   "execution_count": 728,
   "metadata": {},
   "outputs": [
    {
     "name": "stdout",
     "output_type": "stream",
     "text": [
      "30000\n",
      "30000\n",
      "30000\n",
      "30000\n"
     ]
    }
   ],
   "source": [
    "f = open(\"qlearningTestNew.csv\", 'r')\n",
    "f2 = open(\"qlearningTestNewNo2.csv\", 'r')\n",
    "f3 = open(\"qlearningTestNewNo3.csv\", 'r')\n",
    "csv_reader = csv.reader(f)\n",
    "csv_reader2 = csv.reader(f2)\n",
    "csv_reader3 = csv.reader(f3)\n",
    "episodes = next(csv_reader)\n",
    "expectedReturn = next(csv_reader)\n",
    "episodes2 = next(csv_reader2)\n",
    "expectedReturn2 = next(csv_reader2)\n",
    "epsilon2 = next(csv_reader2)\n",
    "episodes3 = next(csv_reader3)\n",
    "expectedReturn3 = next(csv_reader3)\n",
    "epsilon3 = next(csv_reader3)\n",
    "\n",
    "epsilon = next(csv_reader)\n",
    "learningRate = next(csv_reader)\n",
    "\n",
    "del expectedReturn[-1]\n",
    "del expectedReturn2[-1]\n",
    "del expectedReturn3[-1]\n",
    "\n",
    "del episodes[-1]\n",
    "del epsilon[-1]\n",
    "del epsilon2[-1]\n",
    "del epsilon3[-1]\n",
    "del learningRate[-1]\n",
    "\n",
    "expectedReturn = [int(float(i)) for i in expectedReturn]\n",
    "expectedReturn2 = [int(float(i)) for i in expectedReturn2]\n",
    "expectedReturn3 = [int(float(i)) for i in expectedReturn3]\n",
    "expectedReturn1000 = expectedReturn[:splitThousandEpisodes]\n",
    "expectedReturn21000 = expectedReturn2[:splitThousandEpisodes]\n",
    "expectedReturn31000 = expectedReturn3[:splitThousandEpisodes]\n",
    "epsilon = [float(i) for i in epsilon]\n",
    "epsilon2 = [float(i) for i in epsilon2]\n",
    "epsilon3 = [float(i) for i in epsilon3]\n",
    "learningRate = [float(i) for i in learningRate]"
   ]
  },
  {
   "cell_type": "markdown",
   "metadata": {},
   "source": [
    "# Take the average of episodes "
   ]
  },
  {
   "cell_type": "code",
   "execution_count": 729,
   "metadata": {},
   "outputs": [
    {
     "name": "stdout",
     "output_type": "stream",
     "text": [
      "Average reward per thousand episodes\n",
      "\n"
     ]
    }
   ],
   "source": [
    "import numpy as np\n",
    "\n",
    "rewards_per_thousand_episodes = np.split(np.array(expectedReturn), numberOfEpisodes/splitReturn)\n",
    "\n",
    "\n",
    "count = splitReturn\n",
    "return_avg = []\n",
    "\n",
    "print(\"Average reward per thousand episodes\\n\")\n",
    "for r in rewards_per_thousand_episodes:\n",
    "    return_avg.append(sum(r/splitReturn))\n",
    "    #print(count, \": \", str(sum(r/splitReturn)))\n",
    "    count += splitReturn\n"
   ]
  },
  {
   "cell_type": "code",
   "execution_count": 730,
   "metadata": {},
   "outputs": [
    {
     "name": "stdout",
     "output_type": "stream",
     "text": [
      "Average reward per thousand episodes\n",
      "\n"
     ]
    }
   ],
   "source": [
    "rewards_per_thousand_episodes2 = np.split(np.array(expectedReturn2), numberOfEpisodes/splitReturn)\n",
    "\n",
    "count = splitReturn\n",
    "return_avg2 = []\n",
    "\n",
    "print(\"Average reward per thousand episodes\\n\")\n",
    "for r2 in rewards_per_thousand_episodes2:\n",
    "    return_avg2.append(sum(r2/splitReturn))\n",
    "    #print(count, \": \", str(sum(r2/splitReturn)))\n",
    "    count += splitReturn"
   ]
  },
  {
   "cell_type": "code",
   "execution_count": 731,
   "metadata": {},
   "outputs": [
    {
     "name": "stdout",
     "output_type": "stream",
     "text": [
      "Average reward per thousand episodes\n",
      "\n"
     ]
    }
   ],
   "source": [
    "rewards_per_thousand_episodes3 = np.split(np.array(expectedReturn3), numberOfEpisodes/splitReturn)\n",
    "\n",
    "count = splitReturn\n",
    "return_avg3 = []\n",
    "\n",
    "print(\"Average reward per thousand episodes\\n\")\n",
    "for r3 in rewards_per_thousand_episodes3:\n",
    "    return_avg3.append(sum(r3/splitReturn))\n",
    "    #print(count, \": \", str(sum(r3/splitReturn)))\n",
    "    count += splitReturn"
   ]
  },
  {
   "cell_type": "markdown",
   "metadata": {},
   "source": [
    "# Take the average of the first couple of episodes to show learning in the beginning\n"
   ]
  },
  {
   "cell_type": "code",
   "execution_count": 732,
   "metadata": {},
   "outputs": [
    {
     "name": "stdout",
     "output_type": "stream",
     "text": [
      "Average reward per thousand episodes\n",
      "\n"
     ]
    }
   ],
   "source": [
    "reward_first_thousand_episodes = np.split(np.array(expectedReturn1000), splitThousandEpisodes/splitRates)\n",
    "                                          \n",
    "count = splitRates\n",
    "return_avg_thoudsand = []\n",
    "print(\"Average reward per thousand episodes\\n\")\n",
    "for reward in reward_first_thousand_episodes:\n",
    "    return_avg_thoudsand.append(sum(reward/splitRates))\n",
    "    #print(count, \": \", str(sum(reward/splitRates)))\n",
    "    count += splitRates"
   ]
  },
  {
   "cell_type": "code",
   "execution_count": 733,
   "metadata": {},
   "outputs": [
    {
     "name": "stdout",
     "output_type": "stream",
     "text": [
      "Average reward per thousand episodes\n",
      "\n"
     ]
    }
   ],
   "source": [
    "reward_first_thousand_episodes2 = np.split(np.array(expectedReturn21000), splitThousandEpisodes/splitRates)\n",
    "                                          \n",
    "count = splitRates\n",
    "return_avg_thoudsand2 = []\n",
    "print(\"Average reward per thousand episodes\\n\")\n",
    "for reward2 in reward_first_thousand_episodes2:\n",
    "    return_avg_thoudsand2.append(sum(reward2/splitRates))\n",
    "    #print(count, \": \", str(sum(reward2/splitRates)))\n",
    "    count += splitRates"
   ]
  },
  {
   "cell_type": "code",
   "execution_count": 734,
   "metadata": {},
   "outputs": [
    {
     "name": "stdout",
     "output_type": "stream",
     "text": [
      "Average reward per thousand episodes\n",
      "\n"
     ]
    }
   ],
   "source": [
    "reward_first_thousand_episodes3 = np.split(np.array(expectedReturn31000), splitThousandEpisodes/splitRates)\n",
    "                                          \n",
    "count = splitRates\n",
    "return_avg_thoudsand3 = []\n",
    "print(\"Average reward per thousand episodes\\n\")\n",
    "for reward3 in reward_first_thousand_episodes3:\n",
    "    return_avg_thoudsand3.append(sum(reward3/splitRates))\n",
    "    #print(count, \": \", str(sum(reward3/splitRates)))\n",
    "    count += splitRates"
   ]
  },
  {
   "cell_type": "markdown",
   "metadata": {},
   "source": [
    "# Data for epsilon and learning rate decay "
   ]
  },
  {
   "cell_type": "code",
   "execution_count": 735,
   "metadata": {},
   "outputs": [
    {
     "name": "stdout",
     "output_type": "stream",
     "text": [
      "Average reward per thousand episodes\n",
      "\n"
     ]
    }
   ],
   "source": [
    "epsilon_per_thousand_episodes = np.split(np.array(epsilon), numberOfEpisodes/splitRates)\n",
    "\n",
    "count = splitRates\n",
    "epsilon_avg = []\n",
    "print(\"Average reward per thousand episodes\\n\")\n",
    "for e in epsilon_per_thousand_episodes:\n",
    "    epsilon_avg.append(sum(e/splitRates))\n",
    "    #print(count, \": \", str(sum(e/splitRates)))\n",
    "    count += splitRates"
   ]
  },
  {
   "cell_type": "code",
   "execution_count": 736,
   "metadata": {},
   "outputs": [
    {
     "name": "stdout",
     "output_type": "stream",
     "text": [
      "Average reward per thousand episodes\n",
      "\n"
     ]
    }
   ],
   "source": [
    "epsilon_per_thousand_episodes2 = np.split(np.array(epsilon2), numberOfEpisodes/splitRates)\n",
    "\n",
    "count = splitRates\n",
    "epsilon_avg2 = []\n",
    "print(\"Average reward per thousand episodes\\n\")\n",
    "for e2 in epsilon_per_thousand_episodes2:\n",
    "    epsilon_avg2.append(sum(e2/splitRates))\n",
    "    #print(count, \": \", str(sum(e/splitRates)))\n",
    "    count += splitRates"
   ]
  },
  {
   "cell_type": "code",
   "execution_count": 737,
   "metadata": {},
   "outputs": [
    {
     "name": "stdout",
     "output_type": "stream",
     "text": [
      "Average reward per thousand episodes\n",
      "\n"
     ]
    }
   ],
   "source": [
    "epsilon_per_thousand_episodes3 = np.split(np.array(epsilon3), numberOfEpisodes/splitRates)\n",
    "\n",
    "count = splitRates\n",
    "epsilon_avg3 = []\n",
    "print(\"Average reward per thousand episodes\\n\")\n",
    "for e3 in epsilon_per_thousand_episodes3:\n",
    "    epsilon_avg3.append(sum(e3/splitRates))\n",
    "    #print(count, \": \", str(sum(e/splitRates)))\n",
    "    count += splitRates"
   ]
  },
  {
   "cell_type": "code",
   "execution_count": 738,
   "metadata": {},
   "outputs": [
    {
     "name": "stdout",
     "output_type": "stream",
     "text": [
      "Average reward per thousand episodes\n",
      "\n"
     ]
    }
   ],
   "source": [
    "learning_rate_per_thousand_episodes = np.split(np.array(learningRate), numberOfEpisodes/splitRates)\n",
    "\n",
    "count = splitRates\n",
    "learning_rate_avg = []\n",
    "print(\"Average reward per thousand episodes\\n\")\n",
    "for l in learning_rate_per_thousand_episodes:\n",
    "    learning_rate_avg.append(sum(l/splitRates))\n",
    "    #print(count, \": \", str(sum(l/splitRates)))\n",
    "    count += splitRates"
   ]
  },
  {
   "cell_type": "markdown",
   "metadata": {},
   "source": [
    "# Plot avg of Expected Return for different parameters"
   ]
  },
  {
   "cell_type": "code",
   "execution_count": 739,
   "metadata": {},
   "outputs": [
    {
     "data": {
      "image/png": "[encoded data removed]",
      "text/plain": [
       "<Figure size 432x288 with 1 Axes>"
      ]
     },
     "metadata": {
      "needs_background": "light"
     },
     "output_type": "display_data"
    }
   ],
   "source": [
    "episodes = []\n",
    "\n",
    "for i in range(0,numberOfEpisodes, splitReturn):\n",
    "    episodes.append(i)\n",
    "\n",
    "plt.plot(episodes, return_avg, \"r\", label=\"Epsilon Decay 0.005\")\n",
    "plt.plot(episodes, return_avg2, \"b\", label=\"Epsilon Decay 0.00025\")\n",
    "plt.plot(episodes, return_avg3, \"g\", label=\"Epsilon Decay 0.0001\")\n",
    "plt.ylim(45,75)\n",
    "plt.legend()\n",
    "plt.xlabel(\"Episodes\")\n",
    "plt.ylabel(\"Expected Return\")\n",
    "plt.show()"
   ]
  },
  {
   "cell_type": "markdown",
   "metadata": {},
   "source": [
    "# Plot avg of the first couple of episodes "
   ]
  },
  {
   "cell_type": "code",
   "execution_count": 740,
   "metadata": {},
   "outputs": [
    {
     "data": {
      "image/png": "[encoded data removed]",
      "text/plain": [
       "<Figure size 432x288 with 1 Axes>"
      ]
     },
     "metadata": {
      "needs_background": "light"
     },
     "output_type": "display_data"
    }
   ],
   "source": [
    "episodes = []\n",
    "\n",
    "for i in range(0,splitThousandEpisodes, splitRates):\n",
    "    episodes.append(i)\n",
    "    \n",
    "plt.plot(episodes, return_avg_thoudsand, \"r\", label=\"Epsilon Decay 0.005\")\n",
    "plt.plot(episodes, return_avg_thoudsand2, \"b\", label=\"Epsilon Decay 0.00025\")\n",
    "plt.plot(episodes, return_avg_thoudsand3, \"g\", label=\"Epsilon Decay 0.0001\")\n",
    "plt.legend()\n",
    "plt.xlim(0,15000)\n",
    "plt.xlabel(\"Episodes\")\n",
    "plt.ylabel(\"Expected Return\")\n",
    "plt.show()"
   ]
  },
  {
   "cell_type": "markdown",
   "metadata": {},
   "source": [
    "# Plot epsilong and learning rate decay pr episode "
   ]
  },
  {
   "cell_type": "code",
   "execution_count": 744,
   "metadata": {},
   "outputs": [
    {
     "data": {
      "image/png": "[encoded data removed]",
      "text/plain": [
       "<Figure size 432x288 with 1 Axes>"
      ]
     },
     "metadata": {
      "needs_background": "light"
     },
     "output_type": "display_data"
    }
   ],
   "source": [
    "# High epsilon in the start - we want to explore a lot first and then less and less\n",
    "# High learning rate in the start - we want to learn faster in the beginning and then slower and slower\n",
    "\n",
    "episodes = []\n",
    "\n",
    "for i in range(0,numberOfEpisodes, splitRates):\n",
    "    episodes.append(i)\n",
    "\n",
    "plt.plot(episodes, epsilon_avg, \"r\", label=\"Epsilon Decay 0.005\")\n",
    "plt.plot(episodes, epsilon_avg2, \"b\", label=\"Epsilon Decay 0.00025\")\n",
    "plt.plot(episodes, epsilon_avg3, \"g\", label=\"Epsilon Decay 0.0001\")\n",
    "plt.legend()\n",
    "plt.xlabel(\"Episodes\")\n",
    "plt.ylabel(\"Discount Rate\")\n",
    "plt.xlim(0, 30000)\n",
    "\n",
    "plt.show()"
   ]
  },
  {
   "cell_type": "code",
   "execution_count": 17,
   "metadata": {},
   "outputs": [
    {
     "data": {
      "text/html": [
       "<div>\n",
       "<style scoped>\n",
       "    .dataframe tbody tr th:only-of-type {\n",
       "        vertical-align: middle;\n",
       "    }\n",
       "\n",
       "    .dataframe tbody tr th {\n",
       "        vertical-align: top;\n",
       "    }\n",
       "\n",
       "    .dataframe thead th {\n",
       "        text-align: right;\n",
       "    }\n",
       "</style>\n",
       "<table border=\"1\" class=\"dataframe\">\n",
       "  <thead>\n",
       "    <tr style=\"text-align: right;\">\n",
       "      <th></th>\n",
       "      <th>Learning Rate</th>\n",
       "      <th>Discount Rate</th>\n",
       "      <th>Epsilon</th>\n",
       "      <th>Epsilon Decay</th>\n",
       "      <th>Episodes</th>\n",
       "      <th>Avg Expected Return</th>\n",
       "    </tr>\n",
       "  </thead>\n",
       "  <tbody>\n",
       "    <tr>\n",
       "      <th>1</th>\n",
       "      <td>0,01</td>\n",
       "      <td>0,9</td>\n",
       "      <td>1</td>\n",
       "      <td>0,00025</td>\n",
       "      <td>15000</td>\n",
       "      <td>~73</td>\n",
       "    </tr>\n",
       "    <tr>\n",
       "      <th>2</th>\n",
       "      <td>0,01</td>\n",
       "      <td>0,5</td>\n",
       "      <td>1</td>\n",
       "      <td>0,00025</td>\n",
       "      <td>15000</td>\n",
       "      <td>~70</td>\n",
       "    </tr>\n",
       "    <tr>\n",
       "      <th>3</th>\n",
       "      <td>0,01</td>\n",
       "      <td>0,3</td>\n",
       "      <td>1</td>\n",
       "      <td>0,00025</td>\n",
       "      <td>15000</td>\n",
       "      <td>~63</td>\n",
       "    </tr>\n",
       "  </tbody>\n",
       "</table>\n",
       "</div>"
      ],
      "text/plain": [
       "  Learning Rate Discount Rate  Epsilon Epsilon Decay  Episodes  \\\n",
       "1          0,01           0,9        1       0,00025     15000   \n",
       "2          0,01           0,5        1       0,00025     15000   \n",
       "3          0,01           0,3        1       0,00025     15000   \n",
       "\n",
       "  Avg Expected Return  \n",
       "1                 ~73  \n",
       "2                 ~70  \n",
       "3                 ~63  "
      ]
     },
     "execution_count": 17,
     "metadata": {},
     "output_type": "execute_result"
    }
   ],
   "source": [
    "import pandas as pd\n",
    "test1 = pd.read_csv(\"test1.csv\")\n",
    "test1.index += 1\n",
    "test1"
   ]
  },
  {
   "cell_type": "code",
   "execution_count": 18,
   "metadata": {},
   "outputs": [
    {
     "data": {
      "text/html": [
       "<div>\n",
       "<style scoped>\n",
       "    .dataframe tbody tr th:only-of-type {\n",
       "        vertical-align: middle;\n",
       "    }\n",
       "\n",
       "    .dataframe tbody tr th {\n",
       "        vertical-align: top;\n",
       "    }\n",
       "\n",
       "    .dataframe thead th {\n",
       "        text-align: right;\n",
       "    }\n",
       "</style>\n",
       "<table border=\"1\" class=\"dataframe\">\n",
       "  <thead>\n",
       "    <tr style=\"text-align: right;\">\n",
       "      <th></th>\n",
       "      <th>Learning Rate</th>\n",
       "      <th>Discount Rate</th>\n",
       "      <th>Epsilon</th>\n",
       "      <th>Epsilon Decay</th>\n",
       "      <th>Episodes</th>\n",
       "      <th>Avg Expected Return</th>\n",
       "    </tr>\n",
       "  </thead>\n",
       "  <tbody>\n",
       "    <tr>\n",
       "      <th>1</th>\n",
       "      <td>1</td>\n",
       "      <td>0,3</td>\n",
       "      <td>1</td>\n",
       "      <td>0,00025</td>\n",
       "      <td>15000</td>\n",
       "      <td>~50</td>\n",
       "    </tr>\n",
       "    <tr>\n",
       "      <th>2</th>\n",
       "      <td>0,1</td>\n",
       "      <td>0,3</td>\n",
       "      <td>1</td>\n",
       "      <td>0,00025</td>\n",
       "      <td>15000</td>\n",
       "      <td>~73</td>\n",
       "    </tr>\n",
       "    <tr>\n",
       "      <th>3</th>\n",
       "      <td>0,01</td>\n",
       "      <td>0,3</td>\n",
       "      <td>1</td>\n",
       "      <td>0,00025</td>\n",
       "      <td>15000</td>\n",
       "      <td>~70</td>\n",
       "    </tr>\n",
       "  </tbody>\n",
       "</table>\n",
       "</div>"
      ],
      "text/plain": [
       "  Learning Rate Discount Rate  Epsilon Epsilon Decay  Episodes  \\\n",
       "1             1           0,3        1       0,00025     15000   \n",
       "2           0,1           0,3        1       0,00025     15000   \n",
       "3          0,01           0,3        1       0,00025     15000   \n",
       "\n",
       "  Avg Expected Return  \n",
       "1                 ~50  \n",
       "2                 ~73  \n",
       "3                 ~70  "
      ]
     },
     "execution_count": 18,
     "metadata": {},
     "output_type": "execute_result"
    }
   ],
   "source": [
    "test2 = pd.read_csv(\"test2.csv\")\n",
    "test2.index += 1\n",
    "test2"
   ]
  },
  {
   "cell_type": "code",
   "execution_count": 19,
   "metadata": {},
   "outputs": [
    {
     "data": {
      "text/html": [
       "<div>\n",
       "<style scoped>\n",
       "    .dataframe tbody tr th:only-of-type {\n",
       "        vertical-align: middle;\n",
       "    }\n",
       "\n",
       "    .dataframe tbody tr th {\n",
       "        vertical-align: top;\n",
       "    }\n",
       "\n",
       "    .dataframe thead th {\n",
       "        text-align: right;\n",
       "    }\n",
       "</style>\n",
       "<table border=\"1\" class=\"dataframe\">\n",
       "  <thead>\n",
       "    <tr style=\"text-align: right;\">\n",
       "      <th></th>\n",
       "      <th>Learning Rate</th>\n",
       "      <th>Discount Rate</th>\n",
       "      <th>Epsilon</th>\n",
       "      <th>Epsilon Decay</th>\n",
       "      <th>Episodes</th>\n",
       "      <th>Avg Expected Return</th>\n",
       "    </tr>\n",
       "  </thead>\n",
       "  <tbody>\n",
       "    <tr>\n",
       "      <th>1</th>\n",
       "      <td>0,01</td>\n",
       "      <td>0,3</td>\n",
       "      <td>1</td>\n",
       "      <td>0,005</td>\n",
       "      <td>2000</td>\n",
       "      <td>~73</td>\n",
       "    </tr>\n",
       "    <tr>\n",
       "      <th>2</th>\n",
       "      <td>0,01</td>\n",
       "      <td>0,3</td>\n",
       "      <td>1</td>\n",
       "      <td>0,00025</td>\n",
       "      <td>15000</td>\n",
       "      <td>~73</td>\n",
       "    </tr>\n",
       "    <tr>\n",
       "      <th>3</th>\n",
       "      <td>0,01</td>\n",
       "      <td>0,3</td>\n",
       "      <td>1</td>\n",
       "      <td>0,0001</td>\n",
       "      <td>30000</td>\n",
       "      <td>~70</td>\n",
       "    </tr>\n",
       "  </tbody>\n",
       "</table>\n",
       "</div>"
      ],
      "text/plain": [
       "  Learning Rate Discount Rate  Epsilon Epsilon Decay  Episodes  \\\n",
       "1          0,01           0,3        1         0,005      2000   \n",
       "2          0,01           0,3        1       0,00025     15000   \n",
       "3          0,01           0,3        1        0,0001     30000   \n",
       "\n",
       "  Avg Expected Return  \n",
       "1                 ~73  \n",
       "2                 ~73  \n",
       "3                 ~70  "
      ]
     },
     "execution_count": 19,
     "metadata": {},
     "output_type": "execute_result"
    }
   ],
   "source": [
    "test3 = pd.read_csv(\"test3.csv\")\n",
    "test3.index += 1\n",
    "test3"
   ]
  },
  {
   "cell_type": "code",
   "execution_count": null,
   "metadata": {},
   "outputs": [],
   "source": []
  }
 ],
 "metadata": {
  "kernelspec": {
   "display_name": "Python 3",
   "language": "python",
   "name": "python3"
  },
  "language_info": {
   "codemirror_mode": {
    "name": "ipython",
    "version": 3
   },
   "file_extension": ".py",
   "mimetype": "text/x-python",
   "name": "python",
   "nbconvert_exporter": "python",
   "pygments_lexer": "ipython3",
   "version": "3.8.5"
  }
 },
 "nbformat": 4,
 "nbformat_minor": 4
}
